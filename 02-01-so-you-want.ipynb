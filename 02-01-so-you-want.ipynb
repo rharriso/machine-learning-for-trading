{
 "cells": [
  {
   "cell_type": "markdown",
   "metadata": {},
   "source": [
    "## Types of Funds\n",
    "\n",
    "### ETF\n",
    "\n",
    "* Buy/Sell like stocks\n",
    "* basket of stocks\n",
    "* buy intraday\n",
    "* transparent\n",
    "\n",
    "### Mutual Funds\n",
    "\n",
    "* Quarterly Asset Disclosure\n",
    "* Buy/Sell at end of the day\n",
    "\n",
    "## Hedge Fun\n",
    "\n",
    "* Buy/sell by agreement - usually secret\n",
    "* No disclosure, even to investors\n",
    "* Not Transparent\n"
   ]
  },
  {
   "cell_type": "markdown",
   "metadata": {},
   "source": [
    "## Liquidity and capitalizaation\n",
    "\n",
    "* Liquidity - how easy it is to buy and sell\n",
    "* Capitalization - number shares x price\n",
    "\n",
    "* ETF are extremely liquid because of their trade volue\n",
    "* Mutual Funds less liquid because they are more expensive\n",
    "* Hedge Funds much less liquid because agreement required, not free to extract mony\n"
   ]
  },
  {
   "cell_type": "markdown",
   "metadata": {},
   "source": [
    "## What makes a good \"Fund\"\n",
    "\n",
    "* Good \"story\" - large cap high volume? Low cap growth stocks?\n",
    "* Story should match benchmarks (niches like emerging markets in eastern europe have their own indices)\n",
    "\n",
    "## Goals\n",
    "\n",
    "* Beat a benchmark (outperform some index)\n",
    "* Absolute return (make as much money as possible all the time): Long / Short - They make long and short option calls\n",
    "   * Often low drawdown, but lower growth overall returns\n",
    "   \n",
    "## Metrics\n",
    "* Cumulative Return (obviously)\n",
    "* Volitility (stdev)\n",
    "* Risk / Reward (Sharpes)"
   ]
  },
  {
   "cell_type": "markdown",
   "metadata": {},
   "source": [
    "## Structures of Hedge Funds\n",
    "\n",
    "https://classroom.udacity.com/courses/ud501/lessons/4383750632/concepts/43495894520923\n",
    "\n",
    "* Target Porfolio is produced by forcast and historical data, current portfolio, historical data (Open High low close), and a portfolio optimizer\n",
    "* Trading Algorithm makes moves to safely approach target portfolio (without changing market)\n",
    "* N-day forecast is created from historical data and some information feed"
   ]
  }
 ],
 "metadata": {
  "kernelspec": {
   "display_name": "Python 3",
   "language": "python",
   "name": "python3"
  },
  "language_info": {
   "codemirror_mode": {
    "name": "ipython",
    "version": 3
   },
   "file_extension": ".py",
   "mimetype": "text/x-python",
   "name": "python",
   "nbconvert_exporter": "python",
   "pygments_lexer": "ipython3",
   "version": "3.7.5"
  }
 },
 "nbformat": 4,
 "nbformat_minor": 4
}
