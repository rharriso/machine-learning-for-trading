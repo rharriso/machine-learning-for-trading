{
 "cells": [
  {
   "cell_type": "code",
   "execution_count": 1,
   "metadata": {},
   "outputs": [
    {
     "data": {
      "text/html": [
       "<div>\n",
       "<style scoped>\n",
       "    .dataframe tbody tr th:only-of-type {\n",
       "        vertical-align: middle;\n",
       "    }\n",
       "\n",
       "    .dataframe tbody tr th {\n",
       "        vertical-align: top;\n",
       "    }\n",
       "\n",
       "    .dataframe thead th {\n",
       "        text-align: right;\n",
       "    }\n",
       "</style>\n",
       "<table border=\"1\" class=\"dataframe\">\n",
       "  <thead>\n",
       "    <tr style=\"text-align: right;\">\n",
       "      <th></th>\n",
       "      <th>SPY</th>\n",
       "      <th>GOOG</th>\n",
       "      <th>IBM</th>\n",
       "      <th>GLD</th>\n",
       "    </tr>\n",
       "  </thead>\n",
       "  <tbody>\n",
       "    <tr>\n",
       "      <th>2019-04-01</th>\n",
       "      <td>280.106659</td>\n",
       "      <td>1194.430054</td>\n",
       "      <td>136.905136</td>\n",
       "      <td>121.529999</td>\n",
       "    </tr>\n",
       "    <tr>\n",
       "      <th>2019-04-02</th>\n",
       "      <td>280.243835</td>\n",
       "      <td>1200.489990</td>\n",
       "      <td>136.618515</td>\n",
       "      <td>121.980003</td>\n",
       "    </tr>\n",
       "    <tr>\n",
       "      <th>2019-04-03</th>\n",
       "      <td>280.684845</td>\n",
       "      <td>1205.920044</td>\n",
       "      <td>137.220383</td>\n",
       "      <td>121.800003</td>\n",
       "    </tr>\n",
       "    <tr>\n",
       "      <th>2019-04-04</th>\n",
       "      <td>281.429596</td>\n",
       "      <td>1215.000000</td>\n",
       "      <td>136.408325</td>\n",
       "      <td>122.110001</td>\n",
       "    </tr>\n",
       "    <tr>\n",
       "      <th>2019-04-05</th>\n",
       "      <td>282.791809</td>\n",
       "      <td>1207.150024</td>\n",
       "      <td>136.886017</td>\n",
       "      <td>121.980003</td>\n",
       "    </tr>\n",
       "    <tr>\n",
       "      <th>...</th>\n",
       "      <td>...</td>\n",
       "      <td>...</td>\n",
       "      <td>...</td>\n",
       "      <td>...</td>\n",
       "    </tr>\n",
       "    <tr>\n",
       "      <th>2020-03-19</th>\n",
       "      <td>239.103989</td>\n",
       "      <td>1115.290039</td>\n",
       "      <td>100.339996</td>\n",
       "      <td>138.039993</td>\n",
       "    </tr>\n",
       "    <tr>\n",
       "      <th>2020-03-20</th>\n",
       "      <td>228.800003</td>\n",
       "      <td>1072.319946</td>\n",
       "      <td>95.389999</td>\n",
       "      <td>140.110001</td>\n",
       "    </tr>\n",
       "    <tr>\n",
       "      <th>2020-03-23</th>\n",
       "      <td>222.949997</td>\n",
       "      <td>1056.619995</td>\n",
       "      <td>94.769997</td>\n",
       "      <td>146.300003</td>\n",
       "    </tr>\n",
       "    <tr>\n",
       "      <th>2020-03-24</th>\n",
       "      <td>243.149994</td>\n",
       "      <td>1134.459961</td>\n",
       "      <td>105.480003</td>\n",
       "      <td>153.399994</td>\n",
       "    </tr>\n",
       "    <tr>\n",
       "      <th>2020-03-25</th>\n",
       "      <td>246.789993</td>\n",
       "      <td>1102.489990</td>\n",
       "      <td>105.849998</td>\n",
       "      <td>151.300003</td>\n",
       "    </tr>\n",
       "  </tbody>\n",
       "</table>\n",
       "<p>249 rows × 4 columns</p>\n",
       "</div>"
      ],
      "text/plain": [
       "                   SPY         GOOG         IBM         GLD\n",
       "2019-04-01  280.106659  1194.430054  136.905136  121.529999\n",
       "2019-04-02  280.243835  1200.489990  136.618515  121.980003\n",
       "2019-04-03  280.684845  1205.920044  137.220383  121.800003\n",
       "2019-04-04  281.429596  1215.000000  136.408325  122.110001\n",
       "2019-04-05  282.791809  1207.150024  136.886017  121.980003\n",
       "...                ...          ...         ...         ...\n",
       "2020-03-19  239.103989  1115.290039  100.339996  138.039993\n",
       "2020-03-20  228.800003  1072.319946   95.389999  140.110001\n",
       "2020-03-23  222.949997  1056.619995   94.769997  146.300003\n",
       "2020-03-24  243.149994  1134.459961  105.480003  153.399994\n",
       "2020-03-25  246.789993  1102.489990  105.849998  151.300003\n",
       "\n",
       "[249 rows x 4 columns]"
      ]
     },
     "execution_count": 1,
     "metadata": {},
     "output_type": "execute_result"
    }
   ],
   "source": [
    "import pandas\n",
    "import os\n",
    "\n",
    "def symbol_to_path(symbol, base_dir=\"data\"):\n",
    "    \"\"\"Return CSV path for file\"\"\"\n",
    "    return os.path.join(base_dir, \"{}.csv\".format(str(symbol)))\n",
    "\n",
    "def get_data(symbols, dates):\n",
    "    if 'SPY' not in symbols:  # add SPY for reference, if absent\n",
    "        symbols.insert(0, 'SPY')\n",
    "\n",
    "    joined_frame = pandas.DataFrame(index=dates)\n",
    "    for symbol in symbols:\n",
    "        symbol_frame = pandas.read_csv(symbol_to_path(symbol),\n",
    "                                index_col=\"Date\",\n",
    "                                parse_dates=True,\n",
    "                                usecols=[\"Date\", \"Adj Close\"]                 \n",
    "                               )\n",
    "        joined_frame = joined_frame.join(symbol_frame, how=\"inner\").rename(columns={'Adj Close': symbol})\n",
    "    return joined_frame\n",
    "\n",
    "dates = pandas.date_range(\"2019-04-01\", \"2020-04-01\")\n",
    "symbols = [\"GOOG\", \"IBM\", \"GLD\"]\n",
    "\n",
    "data_frame = get_data(symbols, dates)\n",
    "data_frame"
   ]
  },
  {
   "cell_type": "code",
   "execution_count": 3,
   "metadata": {},
   "outputs": [
    {
     "name": "stdout",
     "output_type": "stream",
     "text": [
      "Max 1226696.35738598\n",
      "Min 861832.7311391518\n"
     ]
    },
    {
     "data": {
      "text/plain": [
       "<matplotlib.axes._subplots.AxesSubplot at 0x7f6f2b1594d0>"
      ]
     },
     "execution_count": 3,
     "metadata": {},
     "output_type": "execute_result"
    },
    {
     "data": {
      "image/png": "[encoded data removed]",
      "text/plain": [
       "<Figure size 432x288 with 1 Axes>"
      ]
     },
     "metadata": {
      "needs_background": "light"
     },
     "output_type": "display_data"
    }
   ],
   "source": [
    "initial_value = 1000000\n",
    "allocation = [0.4, 0.4, 0.1, 0.1]\n",
    "\n",
    "scaled_frame = data_frame / data_frame.values[0]\n",
    "position_values = (scaled_frame * allocation) * initial_value\n",
    "portfolio_value = position_values.sum(axis=1)\n",
    "print(\"Max\", portfolio_value.max())\n",
    "print(\"Min\", portfolio_value.min())\n",
    "daily_returns = position_values[1:] - position_values.values[0:-1]\n",
    "portfolio_returns = daily_returns.sum(axis=1)\n",
    "portfolio_returns.plot()\n"
   ]
  },
  {
   "cell_type": "code",
   "execution_count": 5,
   "metadata": {},
   "outputs": [
    {
     "name": "stdout",
     "output_type": "stream",
     "text": [
      "X = [2.], Y = [0.75]\n",
      "X = [2.], Y = [0.75]\n",
      "X = [2.00000001], Y = [0.75000001]\n",
      "X = [0.99999999], Y = [0.75000001]\n",
      "X = [1.5], Y = [0.5]\n",
      "X = [1.5], Y = [0.5]\n",
      "X = [1.50000001], Y = [0.5]\n",
      "Optimization terminated successfully.    (Exit mode 0)\n",
      "            Current function value: 0.5\n",
      "            Iterations: 2\n",
      "            Function evaluations: 7\n",
      "            Gradient evaluations: 2\n",
      "Minima Found at:\n",
      "X = [1.5], Y = 0.5\n",
      "X = [0.5 0.6 0.7 0.8 0.9 1.  1.1 1.2 1.3 1.4 1.5 1.6 1.7 1.8 1.9 2.  2.1 2.2\n",
      " 2.3 2.4 2.5], Y = [1.5  1.31 1.14 0.99 0.86 0.75 0.66 0.59 0.54 0.51 0.5  0.51 0.54 0.59\n",
      " 0.66 0.75 0.86 0.99 1.14 1.31 1.5 ]\n"
     ]
    },
    {
     "data": {
      "text/plain": [
       "[<matplotlib.lines.Line2D at 0x7f6f239a33d0>]"
      ]
     },
     "execution_count": 5,
     "metadata": {},
     "output_type": "execute_result"
    },
    {
     "data": {
      "image/png": "[encoded data removed]",
      "text/plain": [
       "<Figure size 432x288 with 1 Axes>"
      ]
     },
     "metadata": {
      "needs_background": "light"
     },
     "output_type": "display_data"
    }
   ],
   "source": [
    "from matplotlib import pyplot\n",
    "\n",
    "def f(x):\n",
    "    y = (x - 1.5) ** 2 + 0.5\n",
    "    print(\"X = {}, Y = {}\".format(x, y))\n",
    "    return y\n",
    "\n",
    "\n",
    "import scipy.optimize as spo\n",
    "import numpy as np\n",
    "\n",
    "Xguess = 2.0\n",
    "min_result = spo.minimize(f, Xguess, method='SLSQP', options={'disp': True})\n",
    "print(\"Minima Found at:\")\n",
    "print(\"X = {}, Y = {}\".format(min_result.x, min_result.fun))\n",
    "\n",
    "Xplot = np.linspace(0.5, 2.5, 21)\n",
    "Yplot = f(Xplot)\n",
    "pyplot.plot(Xplot, Yplot)\n",
    "pyplot.plot(min_result.x, min_result.fun, 'ro')"
   ]
  }
 ],
 "metadata": {
  "kernelspec": {
   "display_name": "Python 3",
   "language": "python",
   "name": "python3"
  },
  "language_info": {
   "codemirror_mode": {
    "name": "ipython",
    "version": 3
   },
   "file_extension": ".py",
   "mimetype": "text/x-python",
   "name": "python",
   "nbconvert_exporter": "python",
   "pygments_lexer": "ipython3",
   "version": "3.7.5"
  }
 },
 "nbformat": 4,
 "nbformat_minor": 4
}
