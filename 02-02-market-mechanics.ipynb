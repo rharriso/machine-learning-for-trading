{
 "cells": [
  {
   "cell_type": "markdown",
   "metadata": {},
   "source": [
    "## What is in an order\n",
    "\n",
    "* Buy or Sell order\n",
    "* Symbol being sold\n",
    "* # of shares to be sold\n",
    "* Limit or market (restrictions on price)\n",
    "   * Market, pay the market price\n",
    "   * Limit, no more or less than a specific price\n",
    "* Price for limit\n",
    "\n",
    "## Order Book\n",
    "\n",
    "Exchanges keep order books for stock.\n",
    "\n",
    "1. suppose you make order`BUY,IBM,100,LIMIT,99.95`\n",
    "2. Book entry made `BID, 99.95, 100` shares can change with more orders\n",
    "3. sell order made `SELL IBM, 1000, LIMIT, 100`\n",
    "3. Now have a `BID and ASK entry`\n",
    "4. Market orders are resolved to best available price to fullfill the order\n",
    "\n",
    "* Selling pressure means that there are more ASK orders than BID orders, conversely would drive the price up.\n",
    "\n",
    "## How orders get to the exchange\n",
    "\n",
    "1. Broker has station at the exchange\n",
    "2. Broker and interact with exchange computers\n",
    "3. Results come back.\n",
    "\n",
    "Brokers can make exchanges internally (no exchange fee, but prices need to be at least as good as they would have gotten on the exchange)\n",
    "\n",
    "## Dark pool\n",
    "\n",
    "Looks at order books at exchanges, make guesses, pay brokers to see the exchanges. They intercept orders and execute before the exchange is hit\n",
    "\n",
    "https://classroom.udacity.com/courses/ud501/lessons/4371378234/concepts/43828664770923\n",
    "\n",
    "Sort of a layer of exchanges."
   ]
  },
  {
   "cell_type": "markdown",
   "metadata": {},
   "source": [
    "## Additional order Types\n",
    "\n",
    "Exchanges only do buy/sell and market limites\n",
    "\n",
    "## Broker Does layers additional order types\n",
    "* stop Loss\n",
    "* Stop gain\n",
    "* trailing stop - stop loss adjust with price gains\n",
    "* Selling Shorts\n",
    "\n",
    "Selling Short - allows you to take a negative position. Is facilitated by brokers.\n",
    "\n",
    "https://classroom.udacity.com/courses/ud501/lessons/4371378234/concepts/43828664770923"
   ]
  },
  {
   "cell_type": "markdown",
   "metadata": {},
   "source": [
    "Essentially it is borrowing and immediately selling stocks, and then buying them back later at a lower price, the difference is the profit/loss"
   ]
  }
 ],
 "metadata": {
  "kernelspec": {
   "display_name": "Python 3",
   "language": "python",
   "name": "python3"
  },
  "language_info": {
   "codemirror_mode": {
    "name": "ipython",
    "version": 3
   },
   "file_extension": ".py",
   "mimetype": "text/x-python",
   "name": "python",
   "nbconvert_exporter": "python",
   "pygments_lexer": "ipython3",
   "version": "3.7.5"
  }
 },
 "nbformat": 4,
 "nbformat_minor": 4
}
