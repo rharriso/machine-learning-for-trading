{
 "cells": [
  {
   "cell_type": "markdown",
   "metadata": {},
   "source": [
    "## Value\n",
    "\n",
    "True value of the company can indicaate good selling and buying indicators\n",
    "\n",
    "* Intrisic values - estimated future dividends\n",
    "* Book Values - Assets that the company owns, factories, buildings, etc.\n",
    "* Market Cap - Market values\n",
    "\n",
    "## Intrinsic Value\n",
    "\n",
    "* Generates one dollar a year.\n",
    "* Need to consider future value of a dollar.\n",
    "\n",
    "* Future value:\n",
    "`present_value = future_value / (1 + IR) ^i`\n",
    "\n",
    "* IR - interest rate\n",
    "* i - how far in the future\n",
    "\n",
    "This applies to dividends.\n",
    "\n",
    "discount rate - interest rate should be higher if the company is less reliable\n",
    "\n",
    "Suppose Discount Rate is 5% \n",
    "\n",
    "Value of all future dividends given discount rate. It's a sum on an infinite series.\n",
    "\n",
    "FV / (n - 1) = FV / DR"
   ]
  },
  {
   "cell_type": "markdown",
   "metadata": {},
   "source": [
    "## Book Value\n",
    "\n",
    "\"Total assets minus intangible assets and liabilities\"\n",
    "\n",
    "* Assets - Factories\n",
    "* Intangible - value of a brand or patent\n",
    "* Liabilities - loans\n",
    "\n",
    "Basically don't count intangibles as they end up on both sides of the equation."
   ]
  },
  {
   "cell_type": "markdown",
   "metadata": {},
   "source": [
    "## Market Cap\n",
    "\n",
    "Number of Shared * Price"
   ]
  },
  {
   "cell_type": "markdown",
   "metadata": {},
   "source": []
  }
 ],
 "metadata": {
  "kernelspec": {
   "display_name": "Python 3",
   "language": "python",
   "name": "python3"
  },
  "language_info": {
   "codemirror_mode": {
    "name": "ipython",
    "version": 3
   },
   "file_extension": ".py",
   "mimetype": "text/x-python",
   "name": "python",
   "nbconvert_exporter": "python",
   "pygments_lexer": "ipython3",
   "version": "3.7.5"
  }
 },
 "nbformat": 4,
 "nbformat_minor": 4
}
