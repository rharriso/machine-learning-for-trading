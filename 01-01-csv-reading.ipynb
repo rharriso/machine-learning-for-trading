{
 "cells": [
  {
   "cell_type": "code",
   "execution_count": 4,
   "metadata": {},
   "outputs": [
    {
     "data": {
      "text/html": [
       "<div>\n",
       "<style scoped>\n",
       "    .dataframe tbody tr th:only-of-type {\n",
       "        vertical-align: middle;\n",
       "    }\n",
       "\n",
       "    .dataframe tbody tr th {\n",
       "        vertical-align: top;\n",
       "    }\n",
       "\n",
       "    .dataframe thead th {\n",
       "        text-align: right;\n",
       "    }\n",
       "</style>\n",
       "<table border=\"1\" class=\"dataframe\">\n",
       "  <thead>\n",
       "    <tr style=\"text-align: right;\">\n",
       "      <th></th>\n",
       "      <th>Date</th>\n",
       "      <th>Open</th>\n",
       "      <th>High</th>\n",
       "      <th>Low</th>\n",
       "      <th>Close</th>\n",
       "      <th>Adj Close</th>\n",
       "      <th>Volume</th>\n",
       "    </tr>\n",
       "  </thead>\n",
       "  <tbody>\n",
       "    <tr>\n",
       "      <th>248</th>\n",
       "      <td>2020-03-19</td>\n",
       "      <td>1093.050049</td>\n",
       "      <td>1157.969971</td>\n",
       "      <td>1060.108032</td>\n",
       "      <td>1115.290039</td>\n",
       "      <td>1115.290039</td>\n",
       "      <td>3651100</td>\n",
       "    </tr>\n",
       "    <tr>\n",
       "      <th>249</th>\n",
       "      <td>2020-03-20</td>\n",
       "      <td>1135.719971</td>\n",
       "      <td>1143.989990</td>\n",
       "      <td>1065.489990</td>\n",
       "      <td>1072.319946</td>\n",
       "      <td>1072.319946</td>\n",
       "      <td>3601800</td>\n",
       "    </tr>\n",
       "    <tr>\n",
       "      <th>250</th>\n",
       "      <td>2020-03-23</td>\n",
       "      <td>1061.319946</td>\n",
       "      <td>1071.319946</td>\n",
       "      <td>1013.536011</td>\n",
       "      <td>1056.619995</td>\n",
       "      <td>1056.619995</td>\n",
       "      <td>4044100</td>\n",
       "    </tr>\n",
       "    <tr>\n",
       "      <th>251</th>\n",
       "      <td>2020-03-24</td>\n",
       "      <td>1103.770020</td>\n",
       "      <td>1135.000000</td>\n",
       "      <td>1090.619995</td>\n",
       "      <td>1134.459961</td>\n",
       "      <td>1134.459961</td>\n",
       "      <td>3344500</td>\n",
       "    </tr>\n",
       "    <tr>\n",
       "      <th>252</th>\n",
       "      <td>2020-03-25</td>\n",
       "      <td>1126.469971</td>\n",
       "      <td>1148.900024</td>\n",
       "      <td>1086.010010</td>\n",
       "      <td>1102.489990</td>\n",
       "      <td>1102.489990</td>\n",
       "      <td>4076400</td>\n",
       "    </tr>\n",
       "  </tbody>\n",
       "</table>\n",
       "</div>"
      ],
      "text/plain": [
       "           Date         Open         High          Low        Close  \\\n",
       "248  2020-03-19  1093.050049  1157.969971  1060.108032  1115.290039   \n",
       "249  2020-03-20  1135.719971  1143.989990  1065.489990  1072.319946   \n",
       "250  2020-03-23  1061.319946  1071.319946  1013.536011  1056.619995   \n",
       "251  2020-03-24  1103.770020  1135.000000  1090.619995  1134.459961   \n",
       "252  2020-03-25  1126.469971  1148.900024  1086.010010  1102.489990   \n",
       "\n",
       "       Adj Close   Volume  \n",
       "248  1115.290039  3651100  \n",
       "249  1072.319946  3601800  \n",
       "250  1056.619995  4044100  \n",
       "251  1134.459961  3344500  \n",
       "252  1102.489990  4076400  "
      ]
     },
     "execution_count": 4,
     "metadata": {},
     "output_type": "execute_result"
    }
   ],
   "source": [
    "# format\n",
    "# Data, Open Price, High Price, Low Price, Volume, Adjusted Close\n",
    "# Adjusted for stock splits and divident payments\n",
    "# Adjusted close and close will differ more the further we go back in time\n",
    "import pandas\n",
    "\n",
    "data_frame = pandas.read_csv(\"data/GOOG.csv\")\n",
    "data_frame.tail(5)"
   ]
  },
  {
   "cell_type": "code",
   "execution_count": 8,
   "metadata": {},
   "outputs": [
    {
     "name": "stdout",
     "output_type": "stream",
     "text": [
      "Max Close 1526.689941\n",
      "Mean Volume 1584841.1067193677\n"
     ]
    }
   ],
   "source": [
    "print(\"Max Close\", data_frame['Close'].max())\n",
    "print(\"Mean Volume\", data_frame['Volume'].mean())"
   ]
  },
  {
   "cell_type": "code",
   "execution_count": 13,
   "metadata": {},
   "outputs": [
    {
     "data": {
      "image/png": "[encoded data removed]",
      "text/plain": [
       "<Figure size 432x288 with 1 Axes>"
      ]
     },
     "metadata": {
      "needs_background": "light"
     },
     "output_type": "display_data"
    }
   ],
   "source": [
    "import matplotlib.pyplot as plt\n",
    "\n",
    "data_frame[['Adj Close', 'High']].plot()\n",
    "plt.show()"
   ]
  }
 ],
 "metadata": {
  "kernelspec": {
   "display_name": "Python 3",
   "language": "python",
   "name": "python3"
  },
  "language_info": {
   "codemirror_mode": {
    "name": "ipython",
    "version": 3
   },
   "file_extension": ".py",
   "mimetype": "text/x-python",
   "name": "python",
   "nbconvert_exporter": "python",
   "pygments_lexer": "ipython3",
   "version": "3.7.5"
  }
 },
 "nbformat": 4,
 "nbformat_minor": 4
}
